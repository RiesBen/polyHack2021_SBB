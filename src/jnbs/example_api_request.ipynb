{
 "cells": [
  {
   "cell_type": "code",
   "execution_count": 2,
   "metadata": {
    "collapsed": true
   },
   "outputs": [
    {
     "ename": "SyntaxError",
     "evalue": "unexpected EOF while parsing (getData.py, line 366)",
     "output_type": "error",
     "traceback": [
      "Traceback \u001B[1;36m(most recent call last)\u001B[0m:\n",
      "  File \u001B[0;32m\"C:\\Users\\benja\\anaconda3\\envs\\polyHack2021_SBB\\lib\\site-packages\\IPython\\core\\interactiveshell.py\"\u001B[0m, line \u001B[0;32m3444\u001B[0m, in \u001B[0;35mrun_code\u001B[0m\n    exec(code_obj, self.user_global_ns, self.user_ns)\n",
      "\u001B[1;36m  File \u001B[1;32m\"C:\\Users\\benja\\AppData\\Local\\Temp/ipykernel_17344/3301476690.py\"\u001B[1;36m, line \u001B[1;32m1\u001B[1;36m, in \u001B[1;35m<module>\u001B[1;36m\u001B[0m\n\u001B[1;33m    from src.api_wrapper import getData\u001B[0m\n",
      "\u001B[1;36m  File \u001B[1;32m\"\\\\wsl$\\Ubuntu\\home\\bschroed\\Documents\\projects\\polyHack2021_SBB\\src\\api_wrapper\\getData.py\"\u001B[1;36m, line \u001B[1;32m366\u001B[0m\n\u001B[1;33m    \u001B[0m\n\u001B[1;37m    ^\u001B[0m\n\u001B[1;31mSyntaxError\u001B[0m\u001B[1;31m:\u001B[0m unexpected EOF while parsing\n"
     ]
    }
   ],
   "source": [
    "from src.api_wrapper import getData"
   ]
  },
  {
   "cell_type": "markdown",
   "source": [
    "## Timetable requests"
   ],
   "metadata": {
    "collapsed": false,
    "pycharm": {
     "name": "#%% md\n"
    }
   }
  },
  {
   "cell_type": "code",
   "execution_count": null,
   "outputs": [],
   "source": [
    "\n",
    "    #SBB Timetables:\n",
    "    # Works!\n",
    "    #timetable = timetable_info()\n",
    "    #json_dict = timetable.get_locationRequest()\n",
    "    #json_dict = timetable.get_tripRequest(trip=generate_trip_dict())\n",
    "    #print(json_dict)\n"
   ],
   "metadata": {
    "collapsed": false,
    "pycharm": {
     "name": "#%%\n"
    }
   }
  }
 ],
 "metadata": {
  "kernelspec": {
   "display_name": "Python 3",
   "language": "python",
   "name": "python3"
  },
  "language_info": {
   "codemirror_mode": {
    "name": "ipython",
    "version": 2
   },
   "file_extension": ".py",
   "mimetype": "text/x-python",
   "name": "python",
   "nbconvert_exporter": "python",
   "pygments_lexer": "ipython2",
   "version": "2.7.6"
  }
 },
 "nbformat": 4,
 "nbformat_minor": 0
}